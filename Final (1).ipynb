{
 "cells": [
  {
   "cell_type": "code",
   "execution_count": 2,
   "id": "ff1b3270-7b5b-40e9-b9c0-480f471d4461",
   "metadata": {},
   "outputs": [],
   "source": [
    "import numpy as np\n",
    "import pandas as pd\n",
    "import matplotlib.pyplot as plt\n",
    "import statsmodels.api as sm\n",
    "import seaborn as sns\n",
    "sns.set()\n",
    "from sklearn.cluster import KMeans"
   ]
  },
  {
   "cell_type": "code",
   "execution_count": 3,
   "id": "b6fdc177-1276-4d4c-874c-c070e2639f01",
   "metadata": {},
   "outputs": [],
   "source": [
    "df = pd.read_csv(\"Engineering_graduate_salary.csv\")"
   ]
  },
  {
   "cell_type": "code",
   "execution_count": 4,
   "id": "04291338-5d15-41e4-a48f-179b5d0882a5",
   "metadata": {},
   "outputs": [
    {
     "data": {
      "text/html": [
       "<div>\n",
       "<style scoped>\n",
       "    .dataframe tbody tr th:only-of-type {\n",
       "        vertical-align: middle;\n",
       "    }\n",
       "\n",
       "    .dataframe tbody tr th {\n",
       "        vertical-align: top;\n",
       "    }\n",
       "\n",
       "    .dataframe thead th {\n",
       "        text-align: right;\n",
       "    }\n",
       "</style>\n",
       "<table border=\"1\" class=\"dataframe\">\n",
       "  <thead>\n",
       "    <tr style=\"text-align: right;\">\n",
       "      <th></th>\n",
       "      <th>ID</th>\n",
       "      <th>Gender</th>\n",
       "      <th>DOB</th>\n",
       "      <th>10percentage</th>\n",
       "      <th>10board</th>\n",
       "      <th>12graduation</th>\n",
       "      <th>12percentage</th>\n",
       "      <th>12board</th>\n",
       "      <th>CollegeID</th>\n",
       "      <th>CollegeTier</th>\n",
       "      <th>...</th>\n",
       "      <th>CivilEngg</th>\n",
       "      <th>conscientiousness</th>\n",
       "      <th>agreeableness</th>\n",
       "      <th>extraversion</th>\n",
       "      <th>nueroticism</th>\n",
       "      <th>openess_to_experience</th>\n",
       "      <th>Salary</th>\n",
       "      <th>Unnamed: 34</th>\n",
       "      <th>Unnamed: 35</th>\n",
       "      <th>Unnamed: 36</th>\n",
       "    </tr>\n",
       "  </thead>\n",
       "  <tbody>\n",
       "    <tr>\n",
       "      <th>0</th>\n",
       "      <td>794381</td>\n",
       "      <td>m</td>\n",
       "      <td>12/17/1991</td>\n",
       "      <td>89.00</td>\n",
       "      <td>cbse</td>\n",
       "      <td>2010</td>\n",
       "      <td>85.20</td>\n",
       "      <td>cbse</td>\n",
       "      <td>8346</td>\n",
       "      <td>2</td>\n",
       "      <td>...</td>\n",
       "      <td>-1</td>\n",
       "      <td>1.1336</td>\n",
       "      <td>0.3789</td>\n",
       "      <td>-0.2974</td>\n",
       "      <td>-0.3612</td>\n",
       "      <td>-1.2440</td>\n",
       "      <td>325000</td>\n",
       "      <td>NaN</td>\n",
       "      <td>NaN</td>\n",
       "      <td>NaN</td>\n",
       "    </tr>\n",
       "    <tr>\n",
       "      <th>1</th>\n",
       "      <td>480729</td>\n",
       "      <td>m</td>\n",
       "      <td>6/18/1986</td>\n",
       "      <td>83.50</td>\n",
       "      <td>ap state board</td>\n",
       "      <td>2003</td>\n",
       "      <td>87.30</td>\n",
       "      <td>ap intermediate board</td>\n",
       "      <td>12487</td>\n",
       "      <td>2</td>\n",
       "      <td>...</td>\n",
       "      <td>-1</td>\n",
       "      <td>-1.4992</td>\n",
       "      <td>-0.7863</td>\n",
       "      <td>-2.0131</td>\n",
       "      <td>0.4148</td>\n",
       "      <td>-0.6035</td>\n",
       "      <td>120000</td>\n",
       "      <td>NaN</td>\n",
       "      <td>NaN</td>\n",
       "      <td>NaN</td>\n",
       "    </tr>\n",
       "    <tr>\n",
       "      <th>2</th>\n",
       "      <td>94788</td>\n",
       "      <td>f</td>\n",
       "      <td>4/8/1988</td>\n",
       "      <td>96.00</td>\n",
       "      <td>stjosephs girls higher sec school,dindigul</td>\n",
       "      <td>2005</td>\n",
       "      <td>92.00</td>\n",
       "      <td>srv girls higher sec school,rasipuram</td>\n",
       "      <td>4239</td>\n",
       "      <td>2</td>\n",
       "      <td>...</td>\n",
       "      <td>-1</td>\n",
       "      <td>-1.3447</td>\n",
       "      <td>-0.7473</td>\n",
       "      <td>-1.5051</td>\n",
       "      <td>1.1199</td>\n",
       "      <td>-1.3539</td>\n",
       "      <td>300000</td>\n",
       "      <td>NaN</td>\n",
       "      <td>NaN</td>\n",
       "      <td>NaN</td>\n",
       "    </tr>\n",
       "    <tr>\n",
       "      <th>3</th>\n",
       "      <td>50739</td>\n",
       "      <td>f</td>\n",
       "      <td>6/26/1987</td>\n",
       "      <td>79.89</td>\n",
       "      <td>sslc</td>\n",
       "      <td>2005</td>\n",
       "      <td>62.83</td>\n",
       "      <td>puc</td>\n",
       "      <td>1940</td>\n",
       "      <td>2</td>\n",
       "      <td>...</td>\n",
       "      <td>-1</td>\n",
       "      <td>-3.3539</td>\n",
       "      <td>-2.4633</td>\n",
       "      <td>-1.3599</td>\n",
       "      <td>0.1798</td>\n",
       "      <td>-3.4471</td>\n",
       "      <td>260000</td>\n",
       "      <td>NaN</td>\n",
       "      <td>NaN</td>\n",
       "      <td>NaN</td>\n",
       "    </tr>\n",
       "    <tr>\n",
       "      <th>4</th>\n",
       "      <td>50670</td>\n",
       "      <td>f</td>\n",
       "      <td>11/3/1985</td>\n",
       "      <td>75.04</td>\n",
       "      <td>kseeb(karnataka secondary education examinatio...</td>\n",
       "      <td>2003</td>\n",
       "      <td>62.16</td>\n",
       "      <td>pu board</td>\n",
       "      <td>1872</td>\n",
       "      <td>2</td>\n",
       "      <td>...</td>\n",
       "      <td>-1</td>\n",
       "      <td>0.3555</td>\n",
       "      <td>-0.7473</td>\n",
       "      <td>-0.1988</td>\n",
       "      <td>0.7673</td>\n",
       "      <td>-0.4455</td>\n",
       "      <td>160000</td>\n",
       "      <td>NaN</td>\n",
       "      <td>NaN</td>\n",
       "      <td>NaN</td>\n",
       "    </tr>\n",
       "  </tbody>\n",
       "</table>\n",
       "<p>5 rows × 37 columns</p>\n",
       "</div>"
      ],
      "text/plain": [
       "       ID Gender         DOB  10percentage  \\\n",
       "0  794381      m  12/17/1991         89.00   \n",
       "1  480729      m   6/18/1986         83.50   \n",
       "2   94788      f    4/8/1988         96.00   \n",
       "3   50739      f   6/26/1987         79.89   \n",
       "4   50670      f   11/3/1985         75.04   \n",
       "\n",
       "                                             10board  12graduation  \\\n",
       "0                                               cbse          2010   \n",
       "1                                     ap state board          2003   \n",
       "2         stjosephs girls higher sec school,dindigul          2005   \n",
       "3                                               sslc          2005   \n",
       "4  kseeb(karnataka secondary education examinatio...          2003   \n",
       "\n",
       "   12percentage                                12board  CollegeID  \\\n",
       "0         85.20                                   cbse       8346   \n",
       "1         87.30                  ap intermediate board      12487   \n",
       "2         92.00  srv girls higher sec school,rasipuram       4239   \n",
       "3         62.83                                    puc       1940   \n",
       "4         62.16                               pu board       1872   \n",
       "\n",
       "   CollegeTier  ... CivilEngg conscientiousness  agreeableness  extraversion  \\\n",
       "0            2  ...        -1            1.1336         0.3789       -0.2974   \n",
       "1            2  ...        -1           -1.4992        -0.7863       -2.0131   \n",
       "2            2  ...        -1           -1.3447        -0.7473       -1.5051   \n",
       "3            2  ...        -1           -3.3539        -2.4633       -1.3599   \n",
       "4            2  ...        -1            0.3555        -0.7473       -0.1988   \n",
       "\n",
       "   nueroticism openess_to_experience  Salary  Unnamed: 34  Unnamed: 35  \\\n",
       "0      -0.3612               -1.2440  325000          NaN          NaN   \n",
       "1       0.4148               -0.6035  120000          NaN          NaN   \n",
       "2       1.1199               -1.3539  300000          NaN          NaN   \n",
       "3       0.1798               -3.4471  260000          NaN          NaN   \n",
       "4       0.7673               -0.4455  160000          NaN          NaN   \n",
       "\n",
       "   Unnamed: 36  \n",
       "0          NaN  \n",
       "1          NaN  \n",
       "2          NaN  \n",
       "3          NaN  \n",
       "4          NaN  \n",
       "\n",
       "[5 rows x 37 columns]"
      ]
     },
     "execution_count": 4,
     "metadata": {},
     "output_type": "execute_result"
    }
   ],
   "source": [
    "df.head()"
   ]
  },
  {
   "cell_type": "markdown",
   "id": "e5ae5c97-a95b-4558-a02f-01bc01303c26",
   "metadata": {},
   "source": [
    "## When comparing GraduationYear, CollageGPA, CollegeCityID, 12graduation, 12percentage"
   ]
  },
  {
   "cell_type": "code",
   "execution_count": 5,
   "id": "ae107eca-2ada-4c7f-8a30-6c2bea85d6ac",
   "metadata": {},
   "outputs": [],
   "source": [
    "X1 = df.iloc [:,5:7]\n",
    "X2 = df.iloc [:, 12:14]\n",
    "X3 = df.iloc [:, 16]\n",
    "Y = df.iloc [:, 33]"
   ]
  },
  {
   "cell_type": "code",
   "execution_count": 6,
   "id": "b1bd134c-da3f-43ea-9c1c-4384b4e5a00f",
   "metadata": {},
   "outputs": [
    {
     "data": {
      "text/html": [
       "<div>\n",
       "<style scoped>\n",
       "    .dataframe tbody tr th:only-of-type {\n",
       "        vertical-align: middle;\n",
       "    }\n",
       "\n",
       "    .dataframe tbody tr th {\n",
       "        vertical-align: top;\n",
       "    }\n",
       "\n",
       "    .dataframe thead th {\n",
       "        text-align: right;\n",
       "    }\n",
       "</style>\n",
       "<table border=\"1\" class=\"dataframe\">\n",
       "  <thead>\n",
       "    <tr style=\"text-align: right;\">\n",
       "      <th></th>\n",
       "      <th>12graduation</th>\n",
       "      <th>12percentage</th>\n",
       "    </tr>\n",
       "  </thead>\n",
       "  <tbody>\n",
       "    <tr>\n",
       "      <th>0</th>\n",
       "      <td>2010</td>\n",
       "      <td>85.20</td>\n",
       "    </tr>\n",
       "    <tr>\n",
       "      <th>1</th>\n",
       "      <td>2003</td>\n",
       "      <td>87.30</td>\n",
       "    </tr>\n",
       "    <tr>\n",
       "      <th>2</th>\n",
       "      <td>2005</td>\n",
       "      <td>92.00</td>\n",
       "    </tr>\n",
       "    <tr>\n",
       "      <th>3</th>\n",
       "      <td>2005</td>\n",
       "      <td>62.83</td>\n",
       "    </tr>\n",
       "    <tr>\n",
       "      <th>4</th>\n",
       "      <td>2003</td>\n",
       "      <td>62.16</td>\n",
       "    </tr>\n",
       "  </tbody>\n",
       "</table>\n",
       "</div>"
      ],
      "text/plain": [
       "   12graduation  12percentage\n",
       "0          2010         85.20\n",
       "1          2003         87.30\n",
       "2          2005         92.00\n",
       "3          2005         62.83\n",
       "4          2003         62.16"
      ]
     },
     "execution_count": 6,
     "metadata": {},
     "output_type": "execute_result"
    }
   ],
   "source": [
    "X1.head()"
   ]
  },
  {
   "cell_type": "code",
   "execution_count": 7,
   "id": "89c3d851-da42-4205-9642-dda02e11667a",
   "metadata": {},
   "outputs": [
    {
     "data": {
      "text/html": [
       "<div>\n",
       "<style scoped>\n",
       "    .dataframe tbody tr th:only-of-type {\n",
       "        vertical-align: middle;\n",
       "    }\n",
       "\n",
       "    .dataframe tbody tr th {\n",
       "        vertical-align: top;\n",
       "    }\n",
       "\n",
       "    .dataframe thead th {\n",
       "        text-align: right;\n",
       "    }\n",
       "</style>\n",
       "<table border=\"1\" class=\"dataframe\">\n",
       "  <thead>\n",
       "    <tr style=\"text-align: right;\">\n",
       "      <th></th>\n",
       "      <th>collegeGPA</th>\n",
       "      <th>CollegeCityID</th>\n",
       "    </tr>\n",
       "  </thead>\n",
       "  <tbody>\n",
       "    <tr>\n",
       "      <th>0</th>\n",
       "      <td>68.76</td>\n",
       "      <td>8346</td>\n",
       "    </tr>\n",
       "    <tr>\n",
       "      <th>1</th>\n",
       "      <td>64.70</td>\n",
       "      <td>12487</td>\n",
       "    </tr>\n",
       "    <tr>\n",
       "      <th>2</th>\n",
       "      <td>80.00</td>\n",
       "      <td>4239</td>\n",
       "    </tr>\n",
       "    <tr>\n",
       "      <th>3</th>\n",
       "      <td>55.70</td>\n",
       "      <td>1940</td>\n",
       "    </tr>\n",
       "    <tr>\n",
       "      <th>4</th>\n",
       "      <td>75.67</td>\n",
       "      <td>1872</td>\n",
       "    </tr>\n",
       "  </tbody>\n",
       "</table>\n",
       "</div>"
      ],
      "text/plain": [
       "   collegeGPA  CollegeCityID\n",
       "0       68.76           8346\n",
       "1       64.70          12487\n",
       "2       80.00           4239\n",
       "3       55.70           1940\n",
       "4       75.67           1872"
      ]
     },
     "execution_count": 7,
     "metadata": {},
     "output_type": "execute_result"
    }
   ],
   "source": [
    "X2.head()"
   ]
  },
  {
   "cell_type": "code",
   "execution_count": 8,
   "id": "5862d7ff-6c8d-4a93-9bdf-0f569e00b1d8",
   "metadata": {},
   "outputs": [
    {
     "data": {
      "text/plain": [
       "0    2009\n",
       "1    2007\n",
       "2    2009\n",
       "3    2009\n",
       "4    2009\n",
       "Name: GraduationYear, dtype: int64"
      ]
     },
     "execution_count": 8,
     "metadata": {},
     "output_type": "execute_result"
    }
   ],
   "source": [
    "X3.head()"
   ]
  },
  {
   "cell_type": "code",
   "execution_count": 9,
   "id": "465076ff-960b-433a-a8d6-61cf42ca8b6b",
   "metadata": {},
   "outputs": [
    {
     "data": {
      "text/html": [
       "<div>\n",
       "<style scoped>\n",
       "    .dataframe tbody tr th:only-of-type {\n",
       "        vertical-align: middle;\n",
       "    }\n",
       "\n",
       "    .dataframe tbody tr th {\n",
       "        vertical-align: top;\n",
       "    }\n",
       "\n",
       "    .dataframe thead th {\n",
       "        text-align: right;\n",
       "    }\n",
       "</style>\n",
       "<table border=\"1\" class=\"dataframe\">\n",
       "  <thead>\n",
       "    <tr style=\"text-align: right;\">\n",
       "      <th></th>\n",
       "      <th>12graduation</th>\n",
       "      <th>12percentage</th>\n",
       "      <th>collegeGPA</th>\n",
       "      <th>CollegeCityID</th>\n",
       "    </tr>\n",
       "  </thead>\n",
       "  <tbody>\n",
       "    <tr>\n",
       "      <th>0</th>\n",
       "      <td>2010</td>\n",
       "      <td>85.20</td>\n",
       "      <td>68.76</td>\n",
       "      <td>8346</td>\n",
       "    </tr>\n",
       "    <tr>\n",
       "      <th>1</th>\n",
       "      <td>2003</td>\n",
       "      <td>87.30</td>\n",
       "      <td>64.70</td>\n",
       "      <td>12487</td>\n",
       "    </tr>\n",
       "    <tr>\n",
       "      <th>2</th>\n",
       "      <td>2005</td>\n",
       "      <td>92.00</td>\n",
       "      <td>80.00</td>\n",
       "      <td>4239</td>\n",
       "    </tr>\n",
       "    <tr>\n",
       "      <th>3</th>\n",
       "      <td>2005</td>\n",
       "      <td>62.83</td>\n",
       "      <td>55.70</td>\n",
       "      <td>1940</td>\n",
       "    </tr>\n",
       "    <tr>\n",
       "      <th>4</th>\n",
       "      <td>2003</td>\n",
       "      <td>62.16</td>\n",
       "      <td>75.67</td>\n",
       "      <td>1872</td>\n",
       "    </tr>\n",
       "  </tbody>\n",
       "</table>\n",
       "</div>"
      ],
      "text/plain": [
       "   12graduation  12percentage  collegeGPA  CollegeCityID\n",
       "0          2010         85.20       68.76           8346\n",
       "1          2003         87.30       64.70          12487\n",
       "2          2005         92.00       80.00           4239\n",
       "3          2005         62.83       55.70           1940\n",
       "4          2003         62.16       75.67           1872"
      ]
     },
     "execution_count": 9,
     "metadata": {},
     "output_type": "execute_result"
    }
   ],
   "source": [
    "Z = pd.merge(X1,X2, left_index = True, right_index = True)\n",
    "Z.head()"
   ]
  },
  {
   "cell_type": "code",
   "execution_count": 10,
   "id": "84c09ea8-02f4-42a6-a344-bf812a9fb419",
   "metadata": {},
   "outputs": [
    {
     "data": {
      "text/html": [
       "<div>\n",
       "<style scoped>\n",
       "    .dataframe tbody tr th:only-of-type {\n",
       "        vertical-align: middle;\n",
       "    }\n",
       "\n",
       "    .dataframe tbody tr th {\n",
       "        vertical-align: top;\n",
       "    }\n",
       "\n",
       "    .dataframe thead th {\n",
       "        text-align: right;\n",
       "    }\n",
       "</style>\n",
       "<table border=\"1\" class=\"dataframe\">\n",
       "  <thead>\n",
       "    <tr style=\"text-align: right;\">\n",
       "      <th></th>\n",
       "      <th>12graduation</th>\n",
       "      <th>12percentage</th>\n",
       "      <th>collegeGPA</th>\n",
       "      <th>CollegeCityID</th>\n",
       "      <th>GraduationYear</th>\n",
       "    </tr>\n",
       "  </thead>\n",
       "  <tbody>\n",
       "    <tr>\n",
       "      <th>0</th>\n",
       "      <td>2010</td>\n",
       "      <td>85.20</td>\n",
       "      <td>68.76</td>\n",
       "      <td>8346</td>\n",
       "      <td>2009</td>\n",
       "    </tr>\n",
       "    <tr>\n",
       "      <th>1</th>\n",
       "      <td>2003</td>\n",
       "      <td>87.30</td>\n",
       "      <td>64.70</td>\n",
       "      <td>12487</td>\n",
       "      <td>2007</td>\n",
       "    </tr>\n",
       "    <tr>\n",
       "      <th>2</th>\n",
       "      <td>2005</td>\n",
       "      <td>92.00</td>\n",
       "      <td>80.00</td>\n",
       "      <td>4239</td>\n",
       "      <td>2009</td>\n",
       "    </tr>\n",
       "    <tr>\n",
       "      <th>3</th>\n",
       "      <td>2005</td>\n",
       "      <td>62.83</td>\n",
       "      <td>55.70</td>\n",
       "      <td>1940</td>\n",
       "      <td>2009</td>\n",
       "    </tr>\n",
       "    <tr>\n",
       "      <th>4</th>\n",
       "      <td>2003</td>\n",
       "      <td>62.16</td>\n",
       "      <td>75.67</td>\n",
       "      <td>1872</td>\n",
       "      <td>2009</td>\n",
       "    </tr>\n",
       "  </tbody>\n",
       "</table>\n",
       "</div>"
      ],
      "text/plain": [
       "   12graduation  12percentage  collegeGPA  CollegeCityID  GraduationYear\n",
       "0          2010         85.20       68.76           8346            2009\n",
       "1          2003         87.30       64.70          12487            2007\n",
       "2          2005         92.00       80.00           4239            2009\n",
       "3          2005         62.83       55.70           1940            2009\n",
       "4          2003         62.16       75.67           1872            2009"
      ]
     },
     "execution_count": 10,
     "metadata": {},
     "output_type": "execute_result"
    }
   ],
   "source": [
    "Z1 = pd.merge(Z,X3, left_index = True, right_index = True)\n",
    "Z1.head()"
   ]
  },
  {
   "cell_type": "markdown",
   "id": "8dfb5f99-d8c7-4009-ad05-858cd9af43c9",
   "metadata": {},
   "source": [
    "## Training 80% Testing 20%"
   ]
  },
  {
   "cell_type": "code",
   "execution_count": 11,
   "id": "2b0dfabf-2184-464b-83b4-6def27aa00f0",
   "metadata": {},
   "outputs": [],
   "source": [
    "from sklearn.model_selection import train_test_split\n",
    "X_train, X_test, Y_train, Y_test = train_test_split(Z1, Y, train_size = 0.8)"
   ]
  },
  {
   "cell_type": "markdown",
   "id": "8268bb8e-398f-4aa1-889d-68fd4ed1e615",
   "metadata": {},
   "source": [
    "## Feature Scailing"
   ]
  },
  {
   "cell_type": "code",
   "execution_count": 12,
   "id": "e082fe01-e061-4b3f-8fe1-6c3373390859",
   "metadata": {},
   "outputs": [],
   "source": [
    "from sklearn.preprocessing import StandardScaler\n",
    "scale = StandardScaler()\n",
    "X_train = scale.fit_transform(X_train)\n",
    "X_test = scale.transform(X_test)"
   ]
  },
  {
   "cell_type": "markdown",
   "id": "eec06dc8-a8ad-442a-b1c2-f3b45f4ae403",
   "metadata": {},
   "source": [
    "## Linear Regression"
   ]
  },
  {
   "cell_type": "code",
   "execution_count": 13,
   "id": "70065df0-276b-4daf-9172-b91a6af1078d",
   "metadata": {},
   "outputs": [
    {
     "data": {
      "text/plain": [
       "array([357049.76400323, 288395.68017636, 209335.28679276, 243249.5902809 ,\n",
       "       223508.72827155])"
      ]
     },
     "execution_count": 13,
     "metadata": {},
     "output_type": "execute_result"
    }
   ],
   "source": [
    "from sklearn.linear_model import LinearRegression\n",
    "classifier = LinearRegression()\n",
    "classifier.fit(X_train, Y_train)\n",
    "y_prediction = classifier.predict(X_test)\n",
    "y_prediction[0:5]"
   ]
  },
  {
   "cell_type": "code",
   "execution_count": 14,
   "id": "d6864f54-2389-42cb-a877-138e9a6b9337",
   "metadata": {},
   "outputs": [],
   "source": [
    "from sklearn.metrics import mean_squared_error\n",
    "from sklearn.metrics import r2_score\n",
    "\n",
    "test_set_rmse = (np.sqrt(mean_squared_error(Y_test, y_prediction)))\n",
    "test_set_r2 = r2_score(Y_test, y_prediction)"
   ]
  },
  {
   "cell_type": "code",
   "execution_count": 15,
   "id": "a13146a2-cf57-4395-a5d6-95c7de94e570",
   "metadata": {},
   "outputs": [
    {
     "name": "stdout",
     "output_type": "stream",
     "text": [
      "235052.3210583953\n",
      "0.0867148603390887\n"
     ]
    }
   ],
   "source": [
    "print(test_set_rmse)\n",
    "print(test_set_r2)"
   ]
  },
  {
   "cell_type": "code",
   "execution_count": 16,
   "id": "1e8d14e5-f56c-4dd8-bb66-bdfedf2465f8",
   "metadata": {},
   "outputs": [],
   "source": [
    "#fig, axis = plt.subplots(1,5 sharey = True)"
   ]
  },
  {
   "cell_type": "markdown",
   "id": "5b300ce3-9d9d-4734-984d-7e99fddc7a3a",
   "metadata": {},
   "source": [
    "## Logistic Regression"
   ]
  },
  {
   "cell_type": "code",
   "execution_count": 17,
   "id": "e9c80216-732b-48e2-a6c3-939d758c7161",
   "metadata": {},
   "outputs": [
    {
     "data": {
      "text/plain": [
       "array([180000, 180000, 180000, 180000, 300000], dtype=int64)"
      ]
     },
     "execution_count": 17,
     "metadata": {},
     "output_type": "execute_result"
    }
   ],
   "source": [
    "from sklearn.linear_model import LogisticRegression\n",
    "classifier = LogisticRegression(solver='lbfgs', max_iter = 1000)\n",
    "classifier.fit(X_train, Y_train)\n",
    "y_prediction = classifier.predict(X_test)\n",
    "y_prediction[0:5]"
   ]
  },
  {
   "cell_type": "code",
   "execution_count": 18,
   "id": "7095c8ad-24f8-4a54-8813-a20290a53a26",
   "metadata": {},
   "outputs": [],
   "source": [
    "test_set_rmse = (np.sqrt(mean_squared_error(Y_test, y_prediction)))\n",
    "test_set_r2 = r2_score(Y_test, y_prediction)"
   ]
  },
  {
   "cell_type": "code",
   "execution_count": 33,
   "id": "ce15e91f-4de6-4144-aa69-c5f8e9a7c691",
   "metadata": {},
   "outputs": [
    {
     "name": "stdout",
     "output_type": "stream",
     "text": [
      "235110.2195911545\n",
      "0.08626488067645421\n"
     ]
    }
   ],
   "source": [
    "print(test_set_rmse)\n",
    "print(test_set_r2)"
   ]
  },
  {
   "cell_type": "markdown",
   "id": "a8e7d89d-e830-45ee-b8b5-24e36054cc01",
   "metadata": {},
   "source": [
    "## Bayesian Regression"
   ]
  },
  {
   "cell_type": "code",
   "execution_count": 20,
   "id": "af5fc109-2d0b-4d81-8066-376dd8a5f4d2",
   "metadata": {},
   "outputs": [
    {
     "data": {
      "text/plain": [
       "array([356238.26012206, 288388.09103412, 210867.56728371, 244095.52009874,\n",
       "       224684.91301521])"
      ]
     },
     "execution_count": 20,
     "metadata": {},
     "output_type": "execute_result"
    }
   ],
   "source": [
    "from sklearn.linear_model import BayesianRidge\n",
    "classifier = BayesianRidge()\n",
    "classifier.fit(X_train, Y_train)\n",
    "y_prediction = classifier.predict(X_test)\n",
    "y_prediction[0:5]"
   ]
  },
  {
   "cell_type": "code",
   "execution_count": 21,
   "id": "85a1c05a-fa13-4fcd-9af8-4cc1045cdb1b",
   "metadata": {},
   "outputs": [],
   "source": [
    "test_set_rmse = (np.sqrt(mean_squared_error(Y_test, y_prediction)))\n",
    "test_set_r2 = r2_score(Y_test, y_prediction)"
   ]
  },
  {
   "cell_type": "code",
   "execution_count": 22,
   "id": "2b949d2c-c5b0-4648-80b8-5cf3e74c84f6",
   "metadata": {},
   "outputs": [
    {
     "name": "stdout",
     "output_type": "stream",
     "text": [
      "235110.2195911545\n",
      "0.08626488067645421\n"
     ]
    }
   ],
   "source": [
    "print(test_set_rmse)\n",
    "print(test_set_r2)"
   ]
  },
  {
   "cell_type": "code",
   "execution_count": null,
   "id": "e1184c3d-6178-486f-99c9-1f934513092e",
   "metadata": {},
   "outputs": [],
   "source": []
  },
  {
   "cell_type": "code",
   "execution_count": 23,
   "id": "2c2f8b8b-8b79-44b2-9c56-67e0fbfadce8",
   "metadata": {},
   "outputs": [
    {
     "data": {
      "text/plain": [
       "<AxesSubplot:xlabel='GraduationYear', ylabel='Salary'>"
      ]
     },
     "execution_count": 23,
     "metadata": {},
     "output_type": "execute_result"
    },
    {
     "data": {
      "image/png": "[encoded data removed]",
      "text/plain": [
       "<Figure size 432x288 with 1 Axes>"
      ]
     },
     "metadata": {},
     "output_type": "display_data"
    },
    {
     "data": {
      "image/png": "[encoded data removed]",
      "text/plain": [
       "<Figure size 432x288 with 1 Axes>"
      ]
     },
     "metadata": {},
     "output_type": "display_data"
    },
    {
     "data": {
      "image/png": "[encoded data removed]",
      "text/plain": [
       "<Figure size 432x288 with 1 Axes>"
      ]
     },
     "metadata": {},
     "output_type": "display_data"
    },
    {
     "data": {
      "image/png": "[encoded data removed]",
      "text/plain": [
       "<Figure size 432x288 with 1 Axes>"
      ]
     },
     "metadata": {},
     "output_type": "display_data"
    },
    {
     "data": {
      "image/png": "[encoded data removed]",
      "text/plain": [
       "<Figure size 432x288 with 1 Axes>"
      ]
     },
     "metadata": {},
     "output_type": "display_data"
    }
   ],
   "source": [
    "df.plot(kind = 'scatter', x = '12graduation', y = 'Salary', color = 'red', marker ='*')\n",
    "df.plot(kind = 'scatter', x = '12percentage', y = 'Salary', color = 'red', marker ='*')\n",
    "df.plot(kind = 'scatter', x = 'collegeGPA', y = 'Salary', color = 'red', marker ='*')\n",
    "df.plot(kind = 'scatter', x = 'CollegeCityID', y = 'Salary', color = 'red', marker ='*')\n",
    "df.plot(kind = 'scatter', x = 'GraduationYear', y = 'Salary', color = 'red', marker ='*')"
   ]
  },
  {
   "cell_type": "markdown",
   "id": "ef68c755-af5e-4619-872c-4193a4e7a7e8",
   "metadata": {},
   "source": [
    "## Clustering"
   ]
  },
  {
   "cell_type": "code",
   "execution_count": 24,
   "id": "a2cf5e93-9502-46f0-857c-d69ff790dfb9",
   "metadata": {},
   "outputs": [
    {
     "data": {
      "text/plain": [
       "KMeans(n_clusters=3)"
      ]
     },
     "execution_count": 24,
     "metadata": {},
     "output_type": "execute_result"
    }
   ],
   "source": [
    "kmeans = KMeans(3)\n",
    "kmeans.fit(Z)"
   ]
  },
  {
   "cell_type": "code",
   "execution_count": 25,
   "id": "95a01034-4a00-4c4e-9ca7-1183267d9461",
   "metadata": {},
   "outputs": [
    {
     "data": {
      "text/plain": [
       "array([0, 2, 0, ..., 0, 1, 0])"
      ]
     },
     "execution_count": 25,
     "metadata": {},
     "output_type": "execute_result"
    }
   ],
   "source": [
    "identified_clusters = kmeans.fit_predict(Z)\n",
    "identified_clusters"
   ]
  },
  {
   "cell_type": "code",
   "execution_count": 26,
   "id": "491c4ff7-4009-4a03-a965-53d6d06a13b7",
   "metadata": {},
   "outputs": [
    {
     "data": {
      "text/plain": [
       "<matplotlib.collections.PathCollection at 0x1fdbdae7460>"
      ]
     },
     "execution_count": 26,
     "metadata": {},
     "output_type": "execute_result"
    },
    {
     "data": {
      "image/png": "[encoded data removed]",
      "text/plain": [
       "<Figure size 432x288 with 1 Axes>"
      ]
     },
     "metadata": {},
     "output_type": "display_data"
    }
   ],
   "source": [
    "df_with_clusters = df.copy()\n",
    "df_with_clusters['Clusters'] = identified_clusters \n",
    "plt.scatter(df_with_clusters['collegeGPA'],df_with_clusters['Salary'],c=df_with_clusters['Clusters'],cmap='rainbow')"
   ]
  },
  {
   "cell_type": "code",
   "execution_count": 27,
   "id": "6c914bfc-e132-4a5a-8aab-6e26132b488f",
   "metadata": {},
   "outputs": [
    {
     "data": {
      "text/plain": [
       "<matplotlib.collections.PathCollection at 0x1fdbdb448e0>"
      ]
     },
     "execution_count": 27,
     "metadata": {},
     "output_type": "execute_result"
    },
    {
     "data": {
      "image/png": "[encoded data removed]",
      "text/plain": [
       "<Figure size 432x288 with 1 Axes>"
      ]
     },
     "metadata": {},
     "output_type": "display_data"
    }
   ],
   "source": [
    "Z1_with_clusters = Z1.copy()\n",
    "Z1_with_clusters['Clusters'] = identified_clusters \n",
    "plt.scatter(Z1_with_clusters['GraduationYear'],Z1_with_clusters['collegeGPA'],c=Z1_with_clusters['Clusters'],cmap='rainbow')"
   ]
  }
 ],
 "metadata": {
  "kernelspec": {
   "display_name": "Python 3",
   "language": "python",
   "name": "python3"
  },
  "language_info": {
   "codemirror_mode": {
    "name": "ipython",
    "version": 3
   },
   "file_extension": ".py",
   "mimetype": "text/x-python",
   "name": "python",
   "nbconvert_exporter": "python",
   "pygments_lexer": "ipython3",
   "version": "3.8.8"
  }
 },
 "nbformat": 4,
 "nbformat_minor": 5
}
