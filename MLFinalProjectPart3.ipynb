{
 "cells": [
  {
   "cell_type": "code",
   "execution_count": 1,
   "id": "38799f5a-45f7-4826-9fa0-99541141a367",
   "metadata": {},
   "outputs": [],
   "source": [
    "import numpy as np\n",
    "import matplotlib.pyplot as plt \n",
    "import pandas as pd\n",
    "\n",
    "import sklearn "
   ]
  },
  {
   "cell_type": "code",
   "execution_count": 15,
   "id": "dd401acd-b7e7-472c-b389-520b5527c21b",
   "metadata": {},
   "outputs": [],
   "source": [
    "dataset = pd.read_csv('Engineering_graduate_salary.csv')\n",
    "dataset.head()\n",
    "X = dataset.iloc[:,9].values.reshape(-1,1)\n",
    "y = dataset.iloc[:,33].values.reshape(-1,1)\n"
   ]
  },
  {
   "cell_type": "code",
   "execution_count": null,
   "id": "5425ecd2-ddc5-4505-be3f-4ca9609d8fea",
   "metadata": {},
   "outputs": [],
   "source": []
  },
  {
   "cell_type": "code",
   "execution_count": 16,
   "id": "42eb2786-9f2b-43ef-9ea4-3685733c4a37",
   "metadata": {},
   "outputs": [],
   "source": [
    "from sklearn.model_selection import train_test_split\n",
    "X_train, X_test, y_train, y_test = train_test_split(X,y, train_size = 0.8) "
   ]
  },
  {
   "cell_type": "code",
   "execution_count": 17,
   "id": "887ad483-f2fe-4743-bc6d-5049ead335bb",
   "metadata": {},
   "outputs": [],
   "source": [
    "from sklearn.preprocessing import StandardScaler\n",
    "S_X = StandardScaler()\n",
    "X_train = S_X.fit_transform(X_train)\n",
    "X_test = S_X.transform(X_test)"
   ]
  },
  {
   "cell_type": "code",
   "execution_count": 18,
   "id": "86c0ba72-235a-429c-b36c-66182a5a6780",
   "metadata": {},
   "outputs": [
    {
     "name": "stderr",
     "output_type": "stream",
     "text": [
      "C:\\Users\\aiden\\anaconda3\\lib\\site-packages\\sklearn\\utils\\validation.py:63: DataConversionWarning: A column-vector y was passed when a 1d array was expected. Please change the shape of y to (n_samples, ), for example using ravel().\n",
      "  return f(*args, **kwargs)\n"
     ]
    },
    {
     "data": {
      "text/plain": [
       "LogisticRegression()"
      ]
     },
     "execution_count": 18,
     "metadata": {},
     "output_type": "execute_result"
    }
   ],
   "source": [
    "from sklearn.linear_model import LogisticRegression\n",
    "classifier = LogisticRegression()\n",
    "classifier.fit(X_train, y_train)"
   ]
  },
  {
   "cell_type": "code",
   "execution_count": 19,
   "id": "5abedcda-1b09-44cf-9f37-5805f9353464",
   "metadata": {},
   "outputs": [],
   "source": [
    "X_train= X_train.reshape(-1, 1)\n",
    "y_train= y_train.reshape(-1, 1)\n",
    "X_test = X_test.reshape(-1, 1)"
   ]
  },
  {
   "cell_type": "code",
   "execution_count": 20,
   "id": "4140fea1-8572-4557-a484-f5c4706af758",
   "metadata": {},
   "outputs": [],
   "source": [
    "model = LogisticRegression()"
   ]
  },
  {
   "cell_type": "code",
   "execution_count": 21,
   "id": "97aa1fe1-3212-4bfe-b2bd-95e86671dd10",
   "metadata": {},
   "outputs": [
    {
     "name": "stderr",
     "output_type": "stream",
     "text": [
      "C:\\Users\\aiden\\anaconda3\\lib\\site-packages\\sklearn\\utils\\validation.py:63: DataConversionWarning: A column-vector y was passed when a 1d array was expected. Please change the shape of y to (n_samples, ), for example using ravel().\n",
      "  return f(*args, **kwargs)\n"
     ]
    },
    {
     "data": {
      "text/plain": [
       "LogisticRegression()"
      ]
     },
     "execution_count": 21,
     "metadata": {},
     "output_type": "execute_result"
    }
   ],
   "source": [
    "model.fit(X_train, y_train)"
   ]
  },
  {
   "cell_type": "code",
   "execution_count": 22,
   "id": "a89254e7-ec94-4216-bcbb-acc68c45672f",
   "metadata": {},
   "outputs": [
    {
     "data": {
      "text/plain": [
       "array([180000, 180000, 300000, 180000, 180000, 300000, 180000, 180000,\n",
       "       180000, 180000, 180000, 180000, 180000, 300000, 300000, 180000,\n",
       "       180000, 180000, 180000, 180000, 180000, 180000, 180000, 180000,\n",
       "       180000, 180000, 180000, 180000, 180000, 180000, 180000, 180000,\n",
       "       180000, 180000, 180000, 180000, 180000, 180000, 180000, 180000,\n",
       "       180000, 180000, 180000, 180000, 180000, 180000, 180000, 300000,\n",
       "       180000, 180000, 180000, 300000, 180000, 180000, 180000, 180000,\n",
       "       180000, 180000, 180000, 180000, 180000, 180000, 180000, 180000,\n",
       "       300000, 180000, 180000, 180000, 180000, 180000, 180000, 180000,\n",
       "       300000, 180000, 180000, 180000, 180000, 180000, 180000, 180000,\n",
       "       180000, 180000, 180000, 180000, 180000, 180000, 180000, 180000,\n",
       "       180000, 180000, 180000, 180000, 180000, 180000, 180000, 180000,\n",
       "       180000, 180000, 180000, 180000, 180000, 180000, 180000, 180000,\n",
       "       180000, 180000, 180000, 300000, 180000, 300000, 180000, 180000,\n",
       "       180000, 180000, 180000, 180000, 180000, 180000, 180000, 300000,\n",
       "       180000, 180000, 180000, 180000, 180000, 180000, 180000, 180000,\n",
       "       180000, 300000, 180000, 180000, 180000, 180000, 180000, 180000,\n",
       "       180000, 180000, 180000, 180000, 180000, 180000, 180000, 180000,\n",
       "       180000, 180000, 180000, 300000, 180000, 180000, 180000, 180000,\n",
       "       180000, 180000, 180000, 180000, 180000, 180000, 180000, 180000,\n",
       "       180000, 180000, 180000, 300000, 180000, 180000, 180000, 180000,\n",
       "       180000, 180000, 180000, 180000, 180000, 180000, 180000, 180000,\n",
       "       180000, 180000, 180000, 180000, 180000, 180000, 180000, 180000,\n",
       "       180000, 180000, 180000, 180000, 180000, 180000, 180000, 180000,\n",
       "       180000, 180000, 180000, 180000, 300000, 180000, 180000, 180000,\n",
       "       180000, 300000, 180000, 180000, 180000, 180000, 180000, 180000,\n",
       "       180000, 180000, 300000, 180000, 180000, 180000, 180000, 180000,\n",
       "       180000, 180000, 180000, 180000, 180000, 180000, 180000, 180000,\n",
       "       180000, 180000, 180000, 180000, 180000, 180000, 180000, 180000,\n",
       "       180000, 180000, 180000, 300000, 180000, 180000, 180000, 180000,\n",
       "       300000, 180000, 180000, 180000, 180000, 180000, 300000, 180000,\n",
       "       300000, 180000, 180000, 180000, 180000, 180000, 180000, 180000,\n",
       "       180000, 180000, 180000, 180000, 180000, 180000, 180000, 300000,\n",
       "       180000, 180000, 180000, 180000, 180000, 300000, 180000, 180000,\n",
       "       180000, 180000, 180000, 300000, 180000, 180000, 180000, 300000,\n",
       "       180000, 180000, 180000, 180000, 180000, 180000, 180000, 180000,\n",
       "       300000, 300000, 180000, 180000, 180000, 180000, 180000, 180000,\n",
       "       180000, 180000, 180000, 180000, 180000, 180000, 180000, 180000,\n",
       "       180000, 180000, 180000, 180000, 180000, 180000, 180000, 180000,\n",
       "       180000, 180000, 180000, 180000, 180000, 180000, 180000, 180000,\n",
       "       180000, 180000, 180000, 180000, 180000, 180000, 180000, 180000,\n",
       "       180000, 180000, 180000, 300000, 180000, 180000, 180000, 180000,\n",
       "       180000, 300000, 180000, 300000, 180000, 180000, 180000, 180000,\n",
       "       180000, 180000, 180000, 180000, 180000, 180000, 180000, 180000,\n",
       "       180000, 180000, 180000, 180000, 300000, 180000, 180000, 180000,\n",
       "       300000, 180000, 300000, 180000, 180000, 180000, 180000, 180000,\n",
       "       180000, 180000, 180000, 180000, 180000, 180000, 180000, 180000,\n",
       "       180000, 180000, 180000, 180000, 180000, 300000, 180000, 180000,\n",
       "       180000, 180000, 180000, 180000, 180000, 180000, 180000, 180000,\n",
       "       180000, 180000, 180000, 180000, 180000, 180000, 180000, 180000,\n",
       "       300000, 180000, 180000, 180000, 180000, 180000, 180000, 180000,\n",
       "       180000, 180000, 180000, 180000, 180000, 180000, 180000, 180000,\n",
       "       180000, 180000, 180000, 180000, 180000, 180000, 180000, 180000,\n",
       "       180000, 180000, 180000, 180000, 180000, 180000, 180000, 180000,\n",
       "       180000, 180000, 180000, 180000, 180000, 180000, 180000, 180000,\n",
       "       180000, 180000, 180000, 300000, 180000, 300000, 180000, 180000,\n",
       "       180000, 180000, 180000, 180000, 180000, 180000, 180000, 180000,\n",
       "       180000, 180000, 180000, 180000, 180000, 180000, 180000, 180000,\n",
       "       180000, 180000, 180000, 180000, 180000, 180000, 180000, 180000,\n",
       "       180000, 180000, 180000, 180000, 300000, 180000, 180000, 180000,\n",
       "       180000, 180000, 180000, 180000, 180000, 180000, 180000, 180000,\n",
       "       180000, 180000, 180000, 180000, 180000, 300000, 180000, 180000,\n",
       "       180000, 180000, 300000, 180000, 180000, 180000, 180000, 180000,\n",
       "       180000, 180000, 180000, 180000, 180000, 180000, 180000, 180000,\n",
       "       180000, 180000, 180000, 180000, 180000, 180000, 180000, 180000,\n",
       "       180000, 180000, 180000, 180000, 180000, 180000, 300000, 300000,\n",
       "       180000, 180000, 180000, 300000, 180000, 180000, 300000, 180000,\n",
       "       180000, 180000, 180000, 180000, 180000, 180000, 180000, 180000,\n",
       "       180000, 180000, 180000, 180000, 180000, 180000, 180000, 180000,\n",
       "       180000, 180000, 180000, 300000, 180000, 180000, 180000, 180000,\n",
       "       180000, 180000, 180000, 180000, 180000, 180000, 180000, 180000,\n",
       "       180000, 180000, 180000, 180000, 180000, 180000, 180000, 180000,\n",
       "       180000, 180000, 180000, 180000, 180000, 180000, 180000, 180000,\n",
       "       180000, 300000, 180000, 180000, 300000, 180000, 180000, 180000,\n",
       "       180000, 180000, 180000, 180000, 180000, 180000, 180000, 180000],\n",
       "      dtype=int64)"
      ]
     },
     "execution_count": 22,
     "metadata": {},
     "output_type": "execute_result"
    }
   ],
   "source": [
    "model.predict(X_test)"
   ]
  },
  {
   "cell_type": "code",
   "execution_count": 23,
   "id": "2069ab07-f516-4873-b03a-192800689a16",
   "metadata": {},
   "outputs": [
    {
     "data": {
      "text/plain": [
       "0.04833333333333333"
      ]
     },
     "execution_count": 23,
     "metadata": {},
     "output_type": "execute_result"
    }
   ],
   "source": [
    "#score shows accuracy of the model\n",
    "model.score(X_test,y_test)"
   ]
  },
  {
   "cell_type": "code",
   "execution_count": 24,
   "id": "98cdd449-b925-4687-bead-dc20c892323d",
   "metadata": {},
   "outputs": [
    {
     "data": {
      "text/plain": [
       "array([180000, 180000, 300000, 180000, 180000, 300000, 180000, 180000,\n",
       "       180000], dtype=int64)"
      ]
     },
     "execution_count": 24,
     "metadata": {},
     "output_type": "execute_result"
    }
   ],
   "source": [
    "#Predict probability of x test \n",
    "y_pred = classifier.predict(X_test)\n",
    "y_pred[0:9]"
   ]
  },
  {
   "cell_type": "code",
   "execution_count": 25,
   "id": "c8255bbb-d5b5-4423-aac2-93adb53132dc",
   "metadata": {},
   "outputs": [
    {
     "data": {
      "text/plain": [
       "array([[0, 0, 0, ..., 0, 0, 0],\n",
       "       [0, 0, 0, ..., 0, 0, 0],\n",
       "       [0, 0, 0, ..., 0, 0, 0],\n",
       "       ...,\n",
       "       [0, 0, 0, ..., 0, 0, 0],\n",
       "       [0, 0, 0, ..., 0, 0, 0],\n",
       "       [0, 0, 0, ..., 0, 0, 0]], dtype=int64)"
      ]
     },
     "execution_count": 25,
     "metadata": {},
     "output_type": "execute_result"
    }
   ],
   "source": [
    "from sklearn.metrics import confusion_matrix\n",
    "cf_matrix = confusion_matrix(y_test, y_pred)\n",
    "cf_matrix"
   ]
  },
  {
   "cell_type": "code",
   "execution_count": null,
   "id": "92a61fff-67c8-4aa6-952c-13143e61799f",
   "metadata": {},
   "outputs": [],
   "source": []
  },
  {
   "cell_type": "code",
   "execution_count": 26,
   "id": "5b666f86-de57-4561-9b02-5e16c3b40cdd",
   "metadata": {},
   "outputs": [
    {
     "data": {
      "text/plain": [
       "Text(0.5, 257.44, 'Predicted label')"
      ]
     },
     "execution_count": 26,
     "metadata": {},
     "output_type": "execute_result"
    },
    {
     "data": {
      "image/png": "[encoded data removed]",
      "text/plain": [
       "<Figure size 432x288 with 2 Axes>"
      ]
     },
     "metadata": {
      "needs_background": "light"
     },
     "output_type": "display_data"
    }
   ],
   "source": [
    "import seaborn as sns \n",
    "class_names=[0,1]\n",
    "fig, ax = plt.subplots()\n",
    "tick_marks = np.arange(len(class_names))\n",
    "plt.xticks(tick_marks, class_names)\n",
    "plt.yticks(tick_marks, class_names)\n",
    "#Create map \n",
    "sns.heatmap(pd.DataFrame(cf_matrix), annot=True,cmap=\"YlGnBu\", fmt='g')\n",
    "ax.xaxis.set_label_position(\"top\")\n",
    "plt.tight_layout()\n",
    "plt.title('Confusion matrix', y=1.1)\n",
    "plt.ylabel('Actual label')\n",
    "plt.xlabel('Predicted label')"
   ]
  },
  {
   "cell_type": "code",
   "execution_count": null,
   "id": "afc7f292-c256-4534-a391-f8c1fad105a1",
   "metadata": {},
   "outputs": [],
   "source": []
  }
 ],
 "metadata": {
  "kernelspec": {
   "display_name": "Python 3",
   "language": "python",
   "name": "python3"
  },
  "language_info": {
   "codemirror_mode": {
    "name": "ipython",
    "version": 3
   },
   "file_extension": ".py",
   "mimetype": "text/x-python",
   "name": "python",
   "nbconvert_exporter": "python",
   "pygments_lexer": "ipython3",
   "version": "3.8.8"
  }
 },
 "nbformat": 4,
 "nbformat_minor": 5
}
