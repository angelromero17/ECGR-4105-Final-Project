{
 "cells": [
  {
   "cell_type": "code",
   "execution_count": 1,
   "id": "116044d0-4273-42a4-9c62-275dbdd00a5c",
   "metadata": {},
   "outputs": [],
   "source": [
    "# ML Project\n",
    "\n",
    "import numpy as np\n",
    "import matplotlib.pyplot as plt \n",
    "import pandas as pd\n",
    "\n",
    "\n"
   ]
  },
  {
   "cell_type": "code",
   "execution_count": 2,
   "id": "9fe6889e-772a-440c-b0a4-878f6906b2e2",
   "metadata": {},
   "outputs": [
    {
     "data": {
      "text/html": [
       "<div>\n",
       "<style scoped>\n",
       "    .dataframe tbody tr th:only-of-type {\n",
       "        vertical-align: middle;\n",
       "    }\n",
       "\n",
       "    .dataframe tbody tr th {\n",
       "        vertical-align: top;\n",
       "    }\n",
       "\n",
       "    .dataframe thead th {\n",
       "        text-align: right;\n",
       "    }\n",
       "</style>\n",
       "<table border=\"1\" class=\"dataframe\">\n",
       "  <thead>\n",
       "    <tr style=\"text-align: right;\">\n",
       "      <th></th>\n",
       "      <th>ID</th>\n",
       "      <th>Gender</th>\n",
       "      <th>DOB</th>\n",
       "      <th>10percentage</th>\n",
       "      <th>10board</th>\n",
       "      <th>12graduation</th>\n",
       "      <th>12percentage</th>\n",
       "      <th>12board</th>\n",
       "      <th>CollegeID</th>\n",
       "      <th>CollegeTier</th>\n",
       "      <th>...</th>\n",
       "      <th>MechanicalEngg</th>\n",
       "      <th>ElectricalEngg</th>\n",
       "      <th>TelecomEngg</th>\n",
       "      <th>CivilEngg</th>\n",
       "      <th>conscientiousness</th>\n",
       "      <th>agreeableness</th>\n",
       "      <th>extraversion</th>\n",
       "      <th>nueroticism</th>\n",
       "      <th>openess_to_experience</th>\n",
       "      <th>Salary</th>\n",
       "    </tr>\n",
       "  </thead>\n",
       "  <tbody>\n",
       "    <tr>\n",
       "      <th>0</th>\n",
       "      <td>604399</td>\n",
       "      <td>f</td>\n",
       "      <td>1990-10-22</td>\n",
       "      <td>87.80</td>\n",
       "      <td>cbse</td>\n",
       "      <td>2009</td>\n",
       "      <td>84.00</td>\n",
       "      <td>cbse</td>\n",
       "      <td>6920</td>\n",
       "      <td>1</td>\n",
       "      <td>...</td>\n",
       "      <td>-1</td>\n",
       "      <td>-1</td>\n",
       "      <td>-1</td>\n",
       "      <td>-1</td>\n",
       "      <td>-0.1590</td>\n",
       "      <td>0.3789</td>\n",
       "      <td>1.2396</td>\n",
       "      <td>0.14590</td>\n",
       "      <td>0.2889</td>\n",
       "      <td>445000</td>\n",
       "    </tr>\n",
       "    <tr>\n",
       "      <th>1</th>\n",
       "      <td>988334</td>\n",
       "      <td>m</td>\n",
       "      <td>1990-05-15</td>\n",
       "      <td>57.00</td>\n",
       "      <td>cbse</td>\n",
       "      <td>2010</td>\n",
       "      <td>64.50</td>\n",
       "      <td>cbse</td>\n",
       "      <td>6624</td>\n",
       "      <td>2</td>\n",
       "      <td>...</td>\n",
       "      <td>-1</td>\n",
       "      <td>-1</td>\n",
       "      <td>-1</td>\n",
       "      <td>-1</td>\n",
       "      <td>1.1336</td>\n",
       "      <td>0.0459</td>\n",
       "      <td>1.2396</td>\n",
       "      <td>0.52620</td>\n",
       "      <td>-0.2859</td>\n",
       "      <td>110000</td>\n",
       "    </tr>\n",
       "    <tr>\n",
       "      <th>2</th>\n",
       "      <td>301647</td>\n",
       "      <td>m</td>\n",
       "      <td>1989-08-21</td>\n",
       "      <td>77.33</td>\n",
       "      <td>maharashtra state board,pune</td>\n",
       "      <td>2007</td>\n",
       "      <td>85.17</td>\n",
       "      <td>amravati divisional board</td>\n",
       "      <td>9084</td>\n",
       "      <td>2</td>\n",
       "      <td>...</td>\n",
       "      <td>-1</td>\n",
       "      <td>-1</td>\n",
       "      <td>260</td>\n",
       "      <td>-1</td>\n",
       "      <td>0.5100</td>\n",
       "      <td>-0.1232</td>\n",
       "      <td>1.5428</td>\n",
       "      <td>-0.29020</td>\n",
       "      <td>-0.2875</td>\n",
       "      <td>255000</td>\n",
       "    </tr>\n",
       "    <tr>\n",
       "      <th>3</th>\n",
       "      <td>582313</td>\n",
       "      <td>m</td>\n",
       "      <td>1991-05-04</td>\n",
       "      <td>84.30</td>\n",
       "      <td>cbse</td>\n",
       "      <td>2009</td>\n",
       "      <td>86.00</td>\n",
       "      <td>cbse</td>\n",
       "      <td>8195</td>\n",
       "      <td>1</td>\n",
       "      <td>...</td>\n",
       "      <td>-1</td>\n",
       "      <td>-1</td>\n",
       "      <td>-1</td>\n",
       "      <td>-1</td>\n",
       "      <td>-0.4463</td>\n",
       "      <td>0.2124</td>\n",
       "      <td>0.3174</td>\n",
       "      <td>0.27270</td>\n",
       "      <td>0.4805</td>\n",
       "      <td>420000</td>\n",
       "    </tr>\n",
       "    <tr>\n",
       "      <th>4</th>\n",
       "      <td>339001</td>\n",
       "      <td>f</td>\n",
       "      <td>1990-10-30</td>\n",
       "      <td>82.00</td>\n",
       "      <td>cbse</td>\n",
       "      <td>2008</td>\n",
       "      <td>75.00</td>\n",
       "      <td>cbse</td>\n",
       "      <td>4889</td>\n",
       "      <td>2</td>\n",
       "      <td>...</td>\n",
       "      <td>-1</td>\n",
       "      <td>-1</td>\n",
       "      <td>-1</td>\n",
       "      <td>-1</td>\n",
       "      <td>-1.4992</td>\n",
       "      <td>-0.7473</td>\n",
       "      <td>-1.0697</td>\n",
       "      <td>0.06223</td>\n",
       "      <td>0.1864</td>\n",
       "      <td>200000</td>\n",
       "    </tr>\n",
       "  </tbody>\n",
       "</table>\n",
       "<p>5 rows × 34 columns</p>\n",
       "</div>"
      ],
      "text/plain": [
       "       ID Gender         DOB  10percentage                       10board  \\\n",
       "0  604399      f  1990-10-22         87.80                          cbse   \n",
       "1  988334      m  1990-05-15         57.00                          cbse   \n",
       "2  301647      m  1989-08-21         77.33  maharashtra state board,pune   \n",
       "3  582313      m  1991-05-04         84.30                          cbse   \n",
       "4  339001      f  1990-10-30         82.00                          cbse   \n",
       "\n",
       "   12graduation  12percentage                    12board  CollegeID  \\\n",
       "0          2009         84.00                       cbse       6920   \n",
       "1          2010         64.50                       cbse       6624   \n",
       "2          2007         85.17  amravati divisional board       9084   \n",
       "3          2009         86.00                       cbse       8195   \n",
       "4          2008         75.00                       cbse       4889   \n",
       "\n",
       "   CollegeTier  ... MechanicalEngg ElectricalEngg  TelecomEngg  CivilEngg  \\\n",
       "0            1  ...             -1             -1           -1         -1   \n",
       "1            2  ...             -1             -1           -1         -1   \n",
       "2            2  ...             -1             -1          260         -1   \n",
       "3            1  ...             -1             -1           -1         -1   \n",
       "4            2  ...             -1             -1           -1         -1   \n",
       "\n",
       "   conscientiousness agreeableness  extraversion  nueroticism  \\\n",
       "0            -0.1590        0.3789        1.2396      0.14590   \n",
       "1             1.1336        0.0459        1.2396      0.52620   \n",
       "2             0.5100       -0.1232        1.5428     -0.29020   \n",
       "3            -0.4463        0.2124        0.3174      0.27270   \n",
       "4            -1.4992       -0.7473       -1.0697      0.06223   \n",
       "\n",
       "   openess_to_experience  Salary  \n",
       "0                 0.2889  445000  \n",
       "1                -0.2859  110000  \n",
       "2                -0.2875  255000  \n",
       "3                 0.4805  420000  \n",
       "4                 0.1864  200000  \n",
       "\n",
       "[5 rows x 34 columns]"
      ]
     },
     "execution_count": 2,
     "metadata": {},
     "output_type": "execute_result"
    }
   ],
   "source": [
    "df = pd.read_csv('Engineering_graduate_salary.csv')\n",
    "df.head()"
   ]
  },
  {
   "cell_type": "code",
   "execution_count": 3,
   "id": "d76c0b51-af37-4189-97d8-0dd828b28a32",
   "metadata": {},
   "outputs": [],
   "source": [
    "# Using 5 features focuses on CollegeGPA, English, Logical, Quant, Domain. \n",
    "X1 = df.iloc[:,17:21]\n",
    "X2 = df.iloc[:,12]\n",
    "Y = df.iloc[:,33]\n",
    "Z = pd.merge(X1,X2, left_index = True, right_index = True)"
   ]
  },
  {
   "cell_type": "code",
   "execution_count": 8,
   "id": "c443be63-88d0-49c4-9dd1-40fb4cf2dcef",
   "metadata": {},
   "outputs": [
    {
     "data": {
      "text/html": [
       "<div>\n",
       "<style scoped>\n",
       "    .dataframe tbody tr th:only-of-type {\n",
       "        vertical-align: middle;\n",
       "    }\n",
       "\n",
       "    .dataframe tbody tr th {\n",
       "        vertical-align: top;\n",
       "    }\n",
       "\n",
       "    .dataframe thead th {\n",
       "        text-align: right;\n",
       "    }\n",
       "</style>\n",
       "<table border=\"1\" class=\"dataframe\">\n",
       "  <thead>\n",
       "    <tr style=\"text-align: right;\">\n",
       "      <th></th>\n",
       "      <th>English</th>\n",
       "      <th>Logical</th>\n",
       "      <th>Quant</th>\n",
       "      <th>Domain</th>\n",
       "      <th>collegeGPA</th>\n",
       "    </tr>\n",
       "  </thead>\n",
       "  <tbody>\n",
       "    <tr>\n",
       "      <th>0</th>\n",
       "      <td>650</td>\n",
       "      <td>665</td>\n",
       "      <td>810</td>\n",
       "      <td>0.694479</td>\n",
       "      <td>73.82</td>\n",
       "    </tr>\n",
       "    <tr>\n",
       "      <th>1</th>\n",
       "      <td>440</td>\n",
       "      <td>435</td>\n",
       "      <td>210</td>\n",
       "      <td>0.342315</td>\n",
       "      <td>65.00</td>\n",
       "    </tr>\n",
       "    <tr>\n",
       "      <th>2</th>\n",
       "      <td>485</td>\n",
       "      <td>475</td>\n",
       "      <td>505</td>\n",
       "      <td>0.824666</td>\n",
       "      <td>61.94</td>\n",
       "    </tr>\n",
       "    <tr>\n",
       "      <th>3</th>\n",
       "      <td>675</td>\n",
       "      <td>620</td>\n",
       "      <td>635</td>\n",
       "      <td>0.990009</td>\n",
       "      <td>80.40</td>\n",
       "    </tr>\n",
       "    <tr>\n",
       "      <th>4</th>\n",
       "      <td>575</td>\n",
       "      <td>495</td>\n",
       "      <td>365</td>\n",
       "      <td>0.278457</td>\n",
       "      <td>64.30</td>\n",
       "    </tr>\n",
       "  </tbody>\n",
       "</table>\n",
       "</div>"
      ],
      "text/plain": [
       "   English  Logical  Quant    Domain  collegeGPA\n",
       "0      650      665    810  0.694479       73.82\n",
       "1      440      435    210  0.342315       65.00\n",
       "2      485      475    505  0.824666       61.94\n",
       "3      675      620    635  0.990009       80.40\n",
       "4      575      495    365  0.278457       64.30"
      ]
     },
     "execution_count": 8,
     "metadata": {},
     "output_type": "execute_result"
    }
   ],
   "source": [
    "Z.head()"
   ]
  },
  {
   "cell_type": "code",
   "execution_count": 5,
   "id": "db1d5092-93f4-4194-b414-db11998e038d",
   "metadata": {},
   "outputs": [],
   "source": [
    "from sklearn.model_selection import train_test_split\n",
    "X_train, X_test, Y_train, Y_test = train_test_split(Z, Y, train_size=0.8 )"
   ]
  },
  {
   "cell_type": "code",
   "execution_count": 6,
   "id": "a70836d3-ee72-4fe5-8946-4ab7c931a052",
   "metadata": {},
   "outputs": [],
   "source": [
    "from sklearn.preprocessing import StandardScaler\n",
    "scale = StandardScaler()\n",
    "X_train = scale.fit_transform(X_train)\n",
    "X_test = scale.transform(X_test)"
   ]
  },
  {
   "cell_type": "code",
   "execution_count": 33,
   "id": "18683974-1178-4041-8e27-e0aeef65dd4f",
   "metadata": {},
   "outputs": [
    {
     "data": {
      "text/plain": [
       "array([333001.8321128 , 404749.20727635, 302072.04224049, 314384.91639664,\n",
       "       353129.78803395])"
      ]
     },
     "execution_count": 33,
     "metadata": {},
     "output_type": "execute_result"
    }
   ],
   "source": [
    "from sklearn.linear_model import LinearRegression\n",
    "classifier = LinearRegression()\n",
    "classifier.fit(X_train, Y_train)\n",
    "y_prediction = classifier.predict(X_test)\n",
    "y_prediction[0:5]"
   ]
  },
  {
   "cell_type": "code",
   "execution_count": 64,
   "id": "f6c33828-058d-4b24-b668-a1524adfb04e",
   "metadata": {},
   "outputs": [],
   "source": [
    "from sklearn.metrics import mean_squared_error, r2_score\n",
    "test_set_rmse = (np.sqrt(mean_squared_error(Y_test, y_prediction)))\n",
    "test_set_r2 = r2_score(Y_test, y_prediction)"
   ]
  },
  {
   "cell_type": "code",
   "execution_count": 65,
   "id": "dea6315e-a786-4356-a58c-7ccf9f32e5fd",
   "metadata": {},
   "outputs": [
    {
     "name": "stdout",
     "output_type": "stream",
     "text": [
      "238958.35335814135\n",
      "-0.0015921138318197858\n"
     ]
    }
   ],
   "source": [
    "print(test_set_rmse)\n",
    "print(test_set_r2)"
   ]
  },
  {
   "cell_type": "code",
   "execution_count": 45,
   "id": "c8edbff9-e7b3-422f-8e1f-f65fed5a19d9",
   "metadata": {},
   "outputs": [
    {
     "data": {
      "text/plain": [
       "<AxesSubplot:xlabel='collegeGPA', ylabel='Salary'>"
      ]
     },
     "execution_count": 45,
     "metadata": {},
     "output_type": "execute_result"
    },
    {
     "data": {
      "image/png": "[encoded data removed]",
      "text/plain": [
       "<Figure size 432x288 with 1 Axes>"
      ]
     },
     "metadata": {
      "needs_background": "light"
     },
     "output_type": "display_data"
    },
    {
     "data": {
      "image/png": "[encoded data removed]",
      "text/plain": [
       "<Figure size 432x288 with 1 Axes>"
      ]
     },
     "metadata": {
      "needs_background": "light"
     },
     "output_type": "display_data"
    },
    {
     "data": {
      "image/png": "[encoded data removed]",
      "text/plain": [
       "<Figure size 432x288 with 1 Axes>"
      ]
     },
     "metadata": {
      "needs_background": "light"
     },
     "output_type": "display_data"
    },
    {
     "data": {
      "image/png": "[encoded data removed]",
      "text/plain": [
       "<Figure size 432x288 with 1 Axes>"
      ]
     },
     "metadata": {
      "needs_background": "light"
     },
     "output_type": "display_data"
    },
    {
     "data": {
      "image/png": "[encoded data removed]",
      "text/plain": [
       "<Figure size 432x288 with 1 Axes>"
      ]
     },
     "metadata": {
      "needs_background": "light"
     },
     "output_type": "display_data"
    }
   ],
   "source": [
    "df.plot(kind = 'scatter', x = 'English' , y = 'Salary')\n",
    "df.plot(kind = 'scatter', x = 'Logical', y = 'Salary')\n",
    "df.plot(kind = 'scatter', x = 'Quant', y = 'Salary')\n",
    "df.plot(kind = 'scatter', x = 'Domain', y = 'Salary')\n",
    "df.plot(kind = 'scatter', x = 'collegeGPA', y = 'Salary')\n"
   ]
  },
  {
   "cell_type": "code",
   "execution_count": 47,
   "id": "813aef38-68b0-4384-b2c8-4d5b136aa7b2",
   "metadata": {},
   "outputs": [
    {
     "data": {
      "text/plain": [
       "array([325000, 325000, 180000, 300000, 180000], dtype=int64)"
      ]
     },
     "execution_count": 47,
     "metadata": {},
     "output_type": "execute_result"
    }
   ],
   "source": [
    "from sklearn.linear_model  import LogisticRegression\n",
    "\n",
    "classifier = LogisticRegression(solver = 'lbfgs', max_iter = 1000)\n",
    "classifier.fit(X_train,Y_train)\n",
    "y_prediction = classifier.predict(X_test)\n",
    "y_prediction[0:5]"
   ]
  },
  {
   "cell_type": "code",
   "execution_count": 48,
   "id": "77aa80e7-52b6-4ccb-a277-9c2c2c4a9768",
   "metadata": {},
   "outputs": [],
   "source": [
    "test_set_rmse = (np.sqrt(mean_squared_error(Y_test, y_prediction)))\n",
    "test_set_r2 = r2_score(Y_test, y_prediction)"
   ]
  },
  {
   "cell_type": "code",
   "execution_count": 49,
   "id": "af93a3e6-413c-4a58-b38c-3cf2e369cc15",
   "metadata": {},
   "outputs": [
    {
     "name": "stdout",
     "output_type": "stream",
     "text": [
      "147334.2288811395\n",
      "-0.015305137153706738\n"
     ]
    }
   ],
   "source": [
    "print(test_set_rmse)\n",
    "print(test_set_r2)"
   ]
  },
  {
   "cell_type": "code",
   "execution_count": null,
   "id": "ab927ca8-a4fe-4b2a-a044-6b6a688a7e58",
   "metadata": {},
   "outputs": [],
   "source": []
  },
  {
   "cell_type": "code",
   "execution_count": 19,
   "id": "180d67b9-eeac-4bbc-a1e9-2a930a2fb34d",
   "metadata": {},
   "outputs": [
    {
     "data": {
      "text/plain": [
       "SVR()"
      ]
     },
     "execution_count": 19,
     "metadata": {},
     "output_type": "execute_result"
    }
   ],
   "source": [
    "#SVR \n",
    "from sklearn.svm import SVR\n",
    "classifier = SVR(kernel = 'rbf')\n",
    "classifier.fit(X_train,Y_train)"
   ]
  },
  {
   "cell_type": "code",
   "execution_count": 27,
   "id": "824712a4-2289-4f72-a6eb-460a3000df94",
   "metadata": {},
   "outputs": [
    {
     "ename": "ValueError",
     "evalue": "operands could not be broadcast together with shapes (600,) (5,) (600,) ",
     "output_type": "error",
     "traceback": [
      "\u001b[1;31m---------------------------------------------------------------------------\u001b[0m",
      "\u001b[1;31mValueError\u001b[0m                                Traceback (most recent call last)",
      "\u001b[1;32m<ipython-input-27-fa7923625ee3>\u001b[0m in \u001b[0;36m<module>\u001b[1;34m\u001b[0m\n\u001b[0;32m      1\u001b[0m \u001b[0my_pred\u001b[0m \u001b[1;33m=\u001b[0m \u001b[0mclassifier\u001b[0m\u001b[1;33m.\u001b[0m\u001b[0mpredict\u001b[0m\u001b[1;33m(\u001b[0m\u001b[0mX_test\u001b[0m\u001b[1;33m)\u001b[0m\u001b[1;33m\u001b[0m\u001b[1;33m\u001b[0m\u001b[0m\n\u001b[1;32m----> 2\u001b[1;33m \u001b[0my_pred\u001b[0m \u001b[1;33m=\u001b[0m \u001b[0mscale\u001b[0m\u001b[1;33m.\u001b[0m\u001b[0minverse_transform\u001b[0m\u001b[1;33m(\u001b[0m\u001b[0my_pred\u001b[0m\u001b[1;33m)\u001b[0m\u001b[1;33m\u001b[0m\u001b[1;33m\u001b[0m\u001b[0m\n\u001b[0m",
      "\u001b[1;32m~\\anaconda3\\lib\\site-packages\\sklearn\\preprocessing\\_data.py\u001b[0m in \u001b[0;36minverse_transform\u001b[1;34m(self, X, copy)\u001b[0m\n\u001b[0;32m    935\u001b[0m                 \u001b[0mX\u001b[0m \u001b[1;33m=\u001b[0m \u001b[0mX\u001b[0m\u001b[1;33m.\u001b[0m\u001b[0mcopy\u001b[0m\u001b[1;33m(\u001b[0m\u001b[1;33m)\u001b[0m\u001b[1;33m\u001b[0m\u001b[1;33m\u001b[0m\u001b[0m\n\u001b[0;32m    936\u001b[0m             \u001b[1;32mif\u001b[0m \u001b[0mself\u001b[0m\u001b[1;33m.\u001b[0m\u001b[0mwith_std\u001b[0m\u001b[1;33m:\u001b[0m\u001b[1;33m\u001b[0m\u001b[1;33m\u001b[0m\u001b[0m\n\u001b[1;32m--> 937\u001b[1;33m                 \u001b[0mX\u001b[0m \u001b[1;33m*=\u001b[0m \u001b[0mself\u001b[0m\u001b[1;33m.\u001b[0m\u001b[0mscale_\u001b[0m\u001b[1;33m\u001b[0m\u001b[1;33m\u001b[0m\u001b[0m\n\u001b[0m\u001b[0;32m    938\u001b[0m             \u001b[1;32mif\u001b[0m \u001b[0mself\u001b[0m\u001b[1;33m.\u001b[0m\u001b[0mwith_mean\u001b[0m\u001b[1;33m:\u001b[0m\u001b[1;33m\u001b[0m\u001b[1;33m\u001b[0m\u001b[0m\n\u001b[0;32m    939\u001b[0m                 \u001b[0mX\u001b[0m \u001b[1;33m+=\u001b[0m \u001b[0mself\u001b[0m\u001b[1;33m.\u001b[0m\u001b[0mmean_\u001b[0m\u001b[1;33m\u001b[0m\u001b[1;33m\u001b[0m\u001b[0m\n",
      "\u001b[1;31mValueError\u001b[0m: operands could not be broadcast together with shapes (600,) (5,) (600,) "
     ]
    }
   ],
   "source": [
    "y_pred = classifier.predict(X_test)\n",
    "y_pred = scale.inverse_transform(y_pred)"
   ]
  },
  {
   "cell_type": "code",
   "execution_count": 26,
   "id": "8451456e-a783-4f63-bfc5-9885bd021973",
   "metadata": {},
   "outputs": [
    {
     "ename": "TypeError",
     "evalue": "unsupported operand type(s) for -: 'str' and 'str'",
     "output_type": "error",
     "traceback": [
      "\u001b[1;31m---------------------------------------------------------------------------\u001b[0m",
      "\u001b[1;31mTypeError\u001b[0m                                 Traceback (most recent call last)",
      "\u001b[1;32m<ipython-input-26-73f20fe623bd>\u001b[0m in \u001b[0;36m<module>\u001b[1;34m\u001b[0m\n\u001b[1;32m----> 1\u001b[1;33m \u001b[0mX1_grid\u001b[0m \u001b[1;33m=\u001b[0m \u001b[0mnp\u001b[0m\u001b[1;33m.\u001b[0m\u001b[0marange\u001b[0m\u001b[1;33m(\u001b[0m\u001b[0mmin\u001b[0m\u001b[1;33m(\u001b[0m\u001b[0mX1\u001b[0m\u001b[1;33m)\u001b[0m\u001b[1;33m,\u001b[0m \u001b[0mmax\u001b[0m\u001b[1;33m(\u001b[0m\u001b[0mX1\u001b[0m\u001b[1;33m)\u001b[0m\u001b[1;33m,\u001b[0m \u001b[1;36m0.01\u001b[0m\u001b[1;33m)\u001b[0m\u001b[1;33m\u001b[0m\u001b[1;33m\u001b[0m\u001b[0m\n\u001b[0m\u001b[0;32m      2\u001b[0m \u001b[0mX1_grid\u001b[0m \u001b[1;33m=\u001b[0m \u001b[0mX1_grid\u001b[0m\u001b[1;33m.\u001b[0m\u001b[0mreshape\u001b[0m\u001b[1;33m(\u001b[0m\u001b[1;33m(\u001b[0m\u001b[0mlen\u001b[0m\u001b[1;33m(\u001b[0m\u001b[0mX1_grid\u001b[0m\u001b[1;33m)\u001b[0m\u001b[1;33m,\u001b[0m \u001b[1;36m1\u001b[0m\u001b[1;33m)\u001b[0m\u001b[1;33m)\u001b[0m\u001b[1;33m\u001b[0m\u001b[1;33m\u001b[0m\u001b[0m\n\u001b[0;32m      3\u001b[0m \u001b[0mplt\u001b[0m\u001b[1;33m.\u001b[0m\u001b[0mscatter\u001b[0m\u001b[1;33m(\u001b[0m\u001b[0mX1\u001b[0m\u001b[1;33m,\u001b[0m \u001b[0mY\u001b[0m\u001b[1;33m,\u001b[0m \u001b[0mcolor\u001b[0m \u001b[1;33m=\u001b[0m \u001b[1;34m'red'\u001b[0m\u001b[1;33m)\u001b[0m\u001b[1;33m\u001b[0m\u001b[1;33m\u001b[0m\u001b[0m\n\u001b[0;32m      4\u001b[0m \u001b[0mplt\u001b[0m\u001b[1;33m.\u001b[0m\u001b[0mplot\u001b[0m\u001b[1;33m(\u001b[0m\u001b[0mX1_grid\u001b[0m\u001b[1;33m,\u001b[0m \u001b[0mclassifier\u001b[0m\u001b[1;33m.\u001b[0m\u001b[0mpredict\u001b[0m\u001b[1;33m(\u001b[0m\u001b[0mX1_grid\u001b[0m\u001b[1;33m)\u001b[0m\u001b[1;33m,\u001b[0m \u001b[0mcolor\u001b[0m \u001b[1;33m=\u001b[0m \u001b[1;34m'blue'\u001b[0m\u001b[1;33m)\u001b[0m\u001b[1;33m\u001b[0m\u001b[1;33m\u001b[0m\u001b[0m\n\u001b[0;32m      5\u001b[0m \u001b[0mplt\u001b[0m\u001b[1;33m.\u001b[0m\u001b[0mtitle\u001b[0m\u001b[1;33m(\u001b[0m\u001b[1;34m'True or False (SVR)'\u001b[0m\u001b[1;33m)\u001b[0m\u001b[1;33m\u001b[0m\u001b[1;33m\u001b[0m\u001b[0m\n",
      "\u001b[1;31mTypeError\u001b[0m: unsupported operand type(s) for -: 'str' and 'str'"
     ]
    }
   ],
   "source": [
    "X1_grid = np.arange(min(X1), max(X1), 0.01)\n",
    "X1_grid = X1_grid.reshape((len(X1_grid), 1))\n",
    "plt.scatter(X1, Y, color = 'red')\n",
    "plt.plot(X1_grid, classifier.predict(X1_grid), color = 'blue')\n",
    "plt.title('True or False (SVR)')\n",
    "plt.xlabel('Job')\n",
    "plt.ylabel('Salary')\n",
    "plt.show()"
   ]
  },
  {
   "cell_type": "code",
   "execution_count": null,
   "id": "72d790e0-4c5c-46f2-a546-2b73d9ca2972",
   "metadata": {},
   "outputs": [],
   "source": []
  },
  {
   "cell_type": "code",
   "execution_count": 29,
   "id": "769b3cd9-8ba2-4f78-a69a-d51c47f312ce",
   "metadata": {},
   "outputs": [
    {
     "data": {
      "text/plain": [
       "array([333001.8321128 , 404749.20727635, 302072.04224049, 314384.91639664,\n",
       "       353129.78803395])"
      ]
     },
     "execution_count": 29,
     "metadata": {},
     "output_type": "execute_result"
    }
   ],
   "source": [
    "#Bayesian Regression\n",
    "\n",
    "from sklearn.linear_model import BayesianRidge\n",
    "classifier = BayesianRidge()\n",
    "classifier.fit(X_train,Y_train)\n",
    "y_prediction [0:5]"
   ]
  },
  {
   "cell_type": "code",
   "execution_count": null,
   "id": "3361ad70-ddcc-4e92-a4bb-50dd861106d6",
   "metadata": {},
   "outputs": [],
   "source": []
  },
  {
   "cell_type": "code",
   "execution_count": 31,
   "id": "0c37003d-8052-428d-8132-0997a876f585",
   "metadata": {},
   "outputs": [],
   "source": [
    "from sklearn.metrics import mean_squared_error, r2_score\n",
    "test_set_rmse = (np.sqrt(mean_squared_error(Y_test, y_prediction)))\n",
    "test_set_r2 = r2_score(Y_test, y_prediction)"
   ]
  },
  {
   "cell_type": "code",
   "execution_count": 63,
   "id": "ee3b83c3-6009-4b8b-b849-d613e80049ee",
   "metadata": {},
   "outputs": [
    {
     "name": "stdout",
     "output_type": "stream",
     "text": [
      "147334.2288811395\n",
      "-0.015305137153706738\n"
     ]
    }
   ],
   "source": [
    "print(test_set_rmse)\n",
    "print(test_set_r2)"
   ]
  },
  {
   "cell_type": "code",
   "execution_count": 61,
   "id": "cfd80313-5f3d-475b-9092-e9891a36bed4",
   "metadata": {},
   "outputs": [],
   "source": [
    "# Select 3 features for training and evaluation. \n",
    "X2 = df.iloc[:,17:19]\n",
    "\n",
    "X2_train, X2_test, Y_train, Y_test = train_test_split(X2, Y, train_size=0.8 )"
   ]
  },
  {
   "cell_type": "code",
   "execution_count": 62,
   "id": "ef3e90f7-115f-4afb-b64f-caf0fe271fde",
   "metadata": {},
   "outputs": [
    {
     "data": {
      "text/html": [
       "<div>\n",
       "<style scoped>\n",
       "    .dataframe tbody tr th:only-of-type {\n",
       "        vertical-align: middle;\n",
       "    }\n",
       "\n",
       "    .dataframe tbody tr th {\n",
       "        vertical-align: top;\n",
       "    }\n",
       "\n",
       "    .dataframe thead th {\n",
       "        text-align: right;\n",
       "    }\n",
       "</style>\n",
       "<table border=\"1\" class=\"dataframe\">\n",
       "  <thead>\n",
       "    <tr style=\"text-align: right;\">\n",
       "      <th></th>\n",
       "      <th>English</th>\n",
       "      <th>Logical</th>\n",
       "    </tr>\n",
       "  </thead>\n",
       "  <tbody>\n",
       "    <tr>\n",
       "      <th>0</th>\n",
       "      <td>650</td>\n",
       "      <td>665</td>\n",
       "    </tr>\n",
       "    <tr>\n",
       "      <th>1</th>\n",
       "      <td>440</td>\n",
       "      <td>435</td>\n",
       "    </tr>\n",
       "    <tr>\n",
       "      <th>2</th>\n",
       "      <td>485</td>\n",
       "      <td>475</td>\n",
       "    </tr>\n",
       "    <tr>\n",
       "      <th>3</th>\n",
       "      <td>675</td>\n",
       "      <td>620</td>\n",
       "    </tr>\n",
       "    <tr>\n",
       "      <th>4</th>\n",
       "      <td>575</td>\n",
       "      <td>495</td>\n",
       "    </tr>\n",
       "  </tbody>\n",
       "</table>\n",
       "</div>"
      ],
      "text/plain": [
       "   English  Logical\n",
       "0      650      665\n",
       "1      440      435\n",
       "2      485      475\n",
       "3      675      620\n",
       "4      575      495"
      ]
     },
     "execution_count": 62,
     "metadata": {},
     "output_type": "execute_result"
    }
   ],
   "source": [
    "X2.head()"
   ]
  },
  {
   "cell_type": "code",
   "execution_count": 57,
   "id": "cd3a48ab-7910-44e8-8a99-d65bfc10aef1",
   "metadata": {},
   "outputs": [],
   "source": [
    "# Scaling\n",
    "scale = StandardScaler()\n",
    "X2_train = scale.fit_transform(X2_train)\n",
    "X2_test = scale.transform(X2_test)"
   ]
  },
  {
   "cell_type": "code",
   "execution_count": 60,
   "id": "86ea5adb-091a-47f1-910c-ec0d2f3bf04a",
   "metadata": {},
   "outputs": [
    {
     "data": {
      "text/plain": [
       "array([298673.19217018, 296164.88479018, 306895.06055713, 303566.9438068 ,\n",
       "       303705.55650701, 302273.96517909, 312258.42086485, 298696.55748559,\n",
       "       308889.17866991, 297089.36018992, 303196.31386047, 295598.90930304,\n",
       "       300148.51856628, 306380.42184818, 312097.44594149, 303768.93478617,\n",
       "       300910.15442488, 298099.42319842, 299795.70831753, 304563.1339792 ,\n",
       "       299337.74779481, 298062.06750637, 307646.37535034, 296536.37201302,\n",
       "       302698.31348889, 300577.09872643, 302879.49333459, 308213.62744549,\n",
       "       311217.9428899 , 311312.13167228, 307849.9231302 , 311179.71137261,\n",
       "       311564.47786128, 296490.53152712, 303021.58809671, 303562.76968735,\n",
       "       299122.07737516, 300848.75208886, 299502.46735059, 307857.67064624,\n",
       "       302738.14399429, 308859.4040329 , 305529.96241798, 306992.1882019 ,\n",
       "       298490.9158691 , 300260.09102253, 302966.43008334, 309299.51693197,\n",
       "       301178.94216049, 312525.92722383, 309374.29021784, 315275.03086582,\n",
       "       306311.73528793, 304433.70139917, 299848.90753863, 300383.74371816,\n",
       "       314334.06283097, 303050.30854555, 310395.47934509, 308298.22609951,\n",
       "       312138.57028355, 294057.13779778, 289764.15293026, 300356.3992807 ,\n",
       "       299780.23110133, 304189.28503452, 306636.52509671, 298888.12620118,\n",
       "       306085.51991015, 311067.78994141, 305411.36393295, 304791.37566959,\n",
       "       302098.86816265, 298790.40953268, 298672.18931981, 303213.15023145,\n",
       "       314452.9544    , 307114.77588519, 299787.37236817, 302861.06440228,\n",
       "       296985.4573262 , 300961.58379439, 304097.54479012, 301233.25026695,\n",
       "       311602.55683395, 303075.98740668, 305196.7065835 , 301040.60169977,\n",
       "       303902.01333304, 292042.86666668, 302180.31020615, 297462.70495112,\n",
       "       307212.68689146, 307811.28039511, 305447.18069723, 299229.19519376,\n",
       "       296664.73743698, 311786.19851861, 295386.23086405, 305223.84296627,\n",
       "       304638.05941078, 302727.4677725 , 304775.33107132, 302116.46291528,\n",
       "       305729.10842554, 308904.54042789, 312995.9234654 , 303709.13919088,\n",
       "       306408.77365914, 303719.24081645, 299509.19489371, 304310.89196586,\n",
       "       307960.93462053, 295524.43252324, 304202.84524353, 308691.11092616,\n",
       "       298986.66334817, 305991.81382886, 301624.35204734, 290729.29769334,\n",
       "       292899.46604128, 309421.27170763, 306286.94613189, 301687.39151818,\n",
       "       302435.25574478, 317347.06515252, 315565.26939401, 304453.05808422,\n",
       "       294713.99873491, 302462.20284608, 295999.28589772, 312836.4035387 ,\n",
       "       306599.62599697, 304672.57484604, 302601.70834818, 303938.62084824,\n",
       "       311369.93583755, 299340.27699829, 296032.30267132, 305634.00553528,\n",
       "       312082.6217453 , 306907.2358847 , 313179.41167427, 300792.79991152,\n",
       "       304011.36740314, 310484.08234703, 309907.56525882, 309538.71729769,\n",
       "       297836.32137053, 312554.74323395, 304935.38274242, 305589.55893258,\n",
       "       314488.29723674, 302946.55975069, 291970.10204912, 297169.45482439,\n",
       "       308699.10357522, 305907.46827026, 311166.05485913, 309109.68267648,\n",
       "       291543.25234611, 307587.7477805 , 306951.55689222, 307504.66542838,\n",
       "       299023.5171257 , 303733.66800308, 304134.35767555, 303551.85365972,\n",
       "       304586.46213289, 308449.01983381, 301465.46041649, 312405.73931754,\n",
       "       305791.97867199, 301429.79771479, 309536.60749955, 303543.64111962,\n",
       "       311205.95216828, 304960.38122599, 290659.49729184, 289452.21318629,\n",
       "       309138.05324902, 300778.523408  , 303963.39363134, 295115.86512681,\n",
       "       305511.89711947, 307980.06796009, 302921.62981056, 299307.13326027,\n",
       "       307732.65739919, 302692.68997932, 309430.06409035, 305974.75702127,\n",
       "       303545.77747614, 315999.22735252, 302652.84251521, 303073.25819468,\n",
       "       314895.76416969, 305785.63153051, 302609.68384908, 301995.29568531,\n",
       "       307879.92899027, 309790.03158863, 302735.95469034, 314204.01978246,\n",
       "       297792.87404359, 295366.38261662, 305594.23914112, 297290.48749506,\n",
       "       309338.58676448, 295535.17049444, 300439.54607122, 300214.67944201,\n",
       "       311203.32948627, 309295.48800263, 293828.1325257 , 299436.14945464,\n",
       "       307297.71634351, 302867.80741751, 303884.14541721, 297098.10435936,\n",
       "       299700.08033106, 304966.25190931, 297971.81878536, 302100.73914621,\n",
       "       293064.53462224, 294862.35580373, 311320.40022091, 307855.18965044,\n",
       "       305103.23411801, 300147.97352042, 310055.74023935, 305472.15010132,\n",
       "       306902.23539519, 304622.52303076, 303419.94738066, 301650.56420484,\n",
       "       296697.21895408, 305510.89036883, 305431.03734097, 309051.40831169,\n",
       "       298939.78444019, 306296.50346485, 302739.57912634, 303510.40362155,\n",
       "       313467.41406678, 310162.39948532, 297330.43927137, 309412.1184439 ,\n",
       "       303415.26988428, 304834.11141271, 303061.21046463, 302065.74041844,\n",
       "       302539.23576297, 298948.62363887, 309514.56124169, 316757.5867089 ,\n",
       "       295654.02805895, 298780.01269378, 305590.15625106, 298102.46896574,\n",
       "       299444.96211788, 298654.21620484, 299732.42897736, 307093.93381626,\n",
       "       302289.15736264, 306335.26546058, 299997.28989066, 304798.93017252,\n",
       "       300114.10524047, 296625.18513645, 304847.55963437, 307298.82666742,\n",
       "       311278.58963593, 301022.31340506, 309509.44193851, 302203.68860995,\n",
       "       301494.20315201, 302306.60690037, 305231.46774414, 306248.31551695,\n",
       "       295749.60865826, 298313.88719138, 312442.42984078, 304801.56582516,\n",
       "       311583.70176931, 292880.60427105, 309256.31840595, 308679.77200694,\n",
       "       307372.34513885, 306007.75097809, 313112.21751094, 303394.52462473,\n",
       "       301369.36804137, 296318.84277239, 312593.89072255, 304632.89350662,\n",
       "       296283.77113617, 305544.65555182, 299342.17154893, 294295.66383755,\n",
       "       302959.1900973 , 294704.62713869, 299265.32769366, 303761.57737684,\n",
       "       293881.35259588, 304693.9822709 , 305515.94670781, 289718.72270116,\n",
       "       309447.02251586, 306903.99189633, 309969.94617793, 313296.47521509,\n",
       "       299809.49771344, 298011.50941136, 312728.67477326, 302310.99659151,\n",
       "       297658.72315775, 306328.69646415, 313938.01850936, 304788.92843693,\n",
       "       299467.29620201, 300488.65649127, 298683.63314398, 296871.58914024,\n",
       "       299369.45364246, 306043.72280617, 308172.84341236, 298628.04340773,\n",
       "       310855.17829028, 304588.89547783, 306599.57149174, 312931.03551786,\n",
       "       308529.95391755, 313859.63952079, 300578.29834786, 313663.97733846,\n",
       "       305336.9541196 , 313126.78850759, 302444.40091084, 299436.56361405,\n",
       "       305520.15562313, 308500.90976753, 301453.97093103, 301319.16649858,\n",
       "       307106.19318489, 301584.59582208, 304254.23482933, 293601.68308085,\n",
       "       305439.41917123, 298798.3470388 , 305251.33868115, 307195.4630128 ,\n",
       "       304778.8834922 , 305248.55728446, 303136.44904358, 309570.46151509,\n",
       "       303086.93032408, 311832.77525227, 309732.89995769, 308107.40966652,\n",
       "       313133.39464196, 301233.11658017, 309037.25895701, 297090.28724883,\n",
       "       298725.81901342, 306928.67153784, 302436.08883438, 296963.67653126,\n",
       "       314157.05116669, 310793.98698546, 311743.71985535, 316347.61578153,\n",
       "       303056.51180121, 295070.68590449, 307942.77312193, 306303.50806174,\n",
       "       298119.54860067, 310066.892165  , 302507.44063834, 301784.8316157 ,\n",
       "       303933.47789212, 315061.30097059, 304298.76501282, 304275.7374101 ,\n",
       "       309799.05728257, 293893.76303524, 306318.13818839, 300775.24556725,\n",
       "       307040.72337315, 299278.40562694, 308925.81510717, 313335.55278895,\n",
       "       297175.6637857 , 294184.67672525, 307014.27556241, 310651.38809074,\n",
       "       304674.38664521, 310512.2298095 , 302400.45379463, 302806.89486762,\n",
       "       312054.79050471, 312979.08345435, 304678.85887738, 312709.70143286,\n",
       "       301845.11902944, 308032.24338868, 296631.03311331, 298201.76118514,\n",
       "       303550.17959181, 304460.80475192, 302899.35452606, 305532.30848141,\n",
       "       295553.27737367, 308889.44167801, 311420.69505294, 296962.18572829,\n",
       "       298312.57644406, 295373.8520844 , 300945.95913579, 304809.53654628,\n",
       "       298807.21318053, 306269.73548475, 299121.44955779, 311405.29887438,\n",
       "       314230.2911189 , 298271.69393805, 310676.96838138, 305546.66844068,\n",
       "       295199.06162934, 310351.93495549, 298126.02342787, 301210.04247483,\n",
       "       309271.8687609 , 305161.95154565, 304104.56443767, 299890.76215481,\n",
       "       314268.57204994, 303775.39635535, 307864.92712596, 293291.03570134,\n",
       "       301693.04507388, 296987.74553975, 295262.41814177, 311076.23590549,\n",
       "       312403.62655151, 314370.7243934 , 314074.69438516, 308467.59246868,\n",
       "       294752.19258931, 304722.01478361, 299078.51820785, 303132.65005577,\n",
       "       306050.23897861, 309922.01701524, 312108.59157671, 305711.9365459 ,\n",
       "       310730.19148802, 290119.57184193, 288775.60380773, 305563.44169842,\n",
       "       308236.45092507, 291382.52935095, 300538.60053925, 292518.67498683,\n",
       "       320063.82881063, 286439.66399411, 297844.1051604 , 295651.8823487 ,\n",
       "       300175.59990909, 310362.75402986, 298157.37485242, 300702.13448297,\n",
       "       299234.39072744, 311377.18947774, 308486.438894  , 306596.41707654,\n",
       "       301770.5871622 , 306613.76210072, 304930.99632162, 295804.26518584,\n",
       "       301784.82318361, 314395.93840501, 307802.59114457, 310100.34070404,\n",
       "       303477.58762293, 297134.85882214, 301247.9503907 , 306334.8154939 ,\n",
       "       298787.92628608, 292334.00779896, 303900.1720113 , 302797.73431973,\n",
       "       315921.95698774, 306344.11167337, 304801.47406072, 302441.663702  ,\n",
       "       298083.85219995, 301010.56221277, 315241.23665648, 306894.21630725,\n",
       "       302435.38293639, 305605.68939545, 300693.05593178, 315791.07059833,\n",
       "       312554.57559343, 302207.85907678, 307886.46541336, 309883.60013024,\n",
       "       295980.98581538, 306822.63838286, 314600.8876143 , 305830.45912059,\n",
       "       310878.36357451, 299602.13462224, 315618.64568078, 297845.03915292,\n",
       "       308397.73553922, 310363.49315266, 301353.33656555, 297346.87844503,\n",
       "       305503.66720537, 306784.265546  , 308222.35919446, 296066.863951  ,\n",
       "       307475.1615917 , 306532.98994629, 301033.92067979, 302877.65983553,\n",
       "       298041.36011605, 301112.84657698, 302490.36455359, 301210.97959713,\n",
       "       305663.37926872, 301990.44770969, 309857.27639331, 311059.61447171,\n",
       "       304938.05962059, 304319.85898122, 306321.3402883 , 297653.63898943,\n",
       "       305354.96059848, 299238.29262893, 312361.48843647, 297849.75462657,\n",
       "       304446.60466376, 307295.33856229, 309484.63266116, 308997.52377674,\n",
       "       308922.63034353, 305868.46429981, 305736.45520475, 303551.38167567,\n",
       "       299053.34989362, 301401.84701195, 294593.6912703 , 304043.52474462,\n",
       "       308548.23626004, 289885.1015242 , 301128.75977157, 304143.36479001,\n",
       "       308907.7080271 , 304941.59261527, 320810.11352463, 307187.61838186,\n",
       "       303683.66476653, 308973.20868342, 292460.65741864, 296747.81133932,\n",
       "       301471.78627523, 302739.54926624, 310552.25081338, 310897.28762023,\n",
       "       307713.61998853, 309831.29021841, 305382.60114339, 306304.30928819,\n",
       "       311466.18838549, 307174.84399733, 311550.03529312, 309686.93970834,\n",
       "       304630.60044323, 297554.70994318, 305919.05188685, 303906.79620662,\n",
       "       299161.2501164 , 300197.20166705, 302790.31314179, 298379.20791927,\n",
       "       307934.31113853, 313497.44201334, 305010.93033686, 301356.99234292,\n",
       "       310119.9934543 , 303308.83083205, 311473.89188929, 301174.36660761,\n",
       "       307770.78034801, 300388.14481255, 298804.53994239, 304182.57911335])"
      ]
     },
     "execution_count": 60,
     "metadata": {},
     "output_type": "execute_result"
    }
   ],
   "source": [
    "classifier = LinearRegression()\n",
    "classifier.fit(X_train, Y_train)\n",
    "x_surf, y_surf = np.meshgrid(np.linspace(df.English.min(), df.English.max(), 100), np.linspace(df.Logical.min(), df.Logical.max(), 100))\n",
    "onlyX2 = df({'English': 'Logical', x_surf.ravel(). 'Salary'})\n",
    "y_prediction = classifier.predict(X_test)\n",
    "y_prediction[0:2]\n",
    "fittedY = np.array(y_prediction)\n",
    "fittedY\n"
   ]
  },
  {
   "cell_type": "code",
   "execution_count": null,
   "id": "52e01821-fad0-44fb-ba0c-74d5198f9e4e",
   "metadata": {},
   "outputs": [],
   "source": []
  }
 ],
 "metadata": {
  "kernelspec": {
   "display_name": "Python 3",
   "language": "python",
   "name": "python3"
  },
  "language_info": {
   "codemirror_mode": {
    "name": "ipython",
    "version": 3
   },
   "file_extension": ".py",
   "mimetype": "text/x-python",
   "name": "python",
   "nbconvert_exporter": "python",
   "pygments_lexer": "ipython3",
   "version": "3.8.8"
  }
 },
 "nbformat": 4,
 "nbformat_minor": 5
}
